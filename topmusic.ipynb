{
 "cells": [
  {
   "cell_type": "code",
   "execution_count": 1,
   "metadata": {},
   "outputs": [],
   "source": [
    "from bs4 import BeautifulSoup\n",
    "import requests\n",
    "import pandas as pd\n",
    "import numpy as np\n",
    "import matplotlib.pyplot as plt\n",
    "import seaborn as sns\n",
    "from datetime import date, datetime, timedelta\n",
    "import time"
   ]
  },
  {
   "cell_type": "code",
   "execution_count": 2,
   "metadata": {},
   "outputs": [],
   "source": [
    "def getSoup(url: str) -> BeautifulSoup:\n",
    "    page = requests.get(url)\n",
    "    bs = BeautifulSoup(page.content, \"html.parser\")\n",
    "    page.close()\n",
    "    \n",
    "    return bs"
   ]
  },
  {
   "cell_type": "code",
   "execution_count": 3,
   "metadata": {},
   "outputs": [],
   "source": [
    "url = \"https://www.billboard.com/charts/hot-100/\"\n",
    "soup = getSoup(url)"
   ]
  },
  {
   "cell_type": "code",
   "execution_count": 58,
   "metadata": {},
   "outputs": [
    {
     "name": "stdout",
     "output_type": "stream",
     "text": [
      "\n",
      "['1', 'Flowers\\t\\t\\n\\t\\n\\n\\n\\t\\n\\tMiley Cyrus', '1', '1', '3', '1', '1', '3']\n"
     ]
    }
   ],
   "source": [
    "data = []\n",
    "table = soup.find_all(\"div\", class_=\"chart-results-list // lrv-u-padding-t-150 lrv-u-padding-t-050@mobile-max\")\n",
    "listings = table[0].find_all(\"div\", class_=\"o-chart-results-list-row-container\")\n",
    "\n",
    "unordered = listings[0].find(\"ul\", class_=\"o-chart-results-list-row\")\n",
    "creds = listings[0].find_all(class_=\"o-chart-credits\")\n",
    "print()\n",
    "\n",
    "\n",
    "for x in unordered.find_all('li', class_=\"o-chart-results-list__item\"): \n",
    "    if (x.text.strip()): \n",
    "        data.append(x.text.strip())\n",
    "    \n",
    "    # print(\"\\n\\n\\n\")\n",
    "    # print(title)\n",
    "\n",
    "\n",
    "# unordered.find_all('li', class_=\"o-chart-results-list__item\")\n",
    "print(data)"
   ]
  },
  {
   "cell_type": "code",
   "execution_count": 20,
   "metadata": {},
   "outputs": [
    {
     "name": "stdout",
     "output_type": "stream",
     "text": [
      "2023-02-12\n",
      "2023-02-05\n"
     ]
    }
   ],
   "source": [
    "a = datetime.now().date()\n",
    "difference = timedelta(days=7)\n",
    "\n",
    "print(a)\n",
    "print(a - difference)\n",
    "\n",
    "time.sleep(0.3) ## Buffer\n",
    " "
   ]
  },
  {
   "cell_type": "code",
   "execution_count": null,
   "metadata": {},
   "outputs": [],
   "source": []
  },
  {
   "cell_type": "code",
   "execution_count": null,
   "metadata": {},
   "outputs": [],
   "source": []
  }
 ],
 "metadata": {
  "kernelspec": {
   "display_name": "base",
   "language": "python",
   "name": "python3"
  },
  "language_info": {
   "codemirror_mode": {
    "name": "ipython",
    "version": 3
   },
   "file_extension": ".py",
   "mimetype": "text/x-python",
   "name": "python",
   "nbconvert_exporter": "python",
   "pygments_lexer": "ipython3",
   "version": "3.9.13"
  },
  "vscode": {
   "interpreter": {
    "hash": "40d3a090f54c6569ab1632332b64b2c03c39dcf918b08424e98f38b5ae0af88f"
   }
  }
 },
 "nbformat": 4,
 "nbformat_minor": 4
}
